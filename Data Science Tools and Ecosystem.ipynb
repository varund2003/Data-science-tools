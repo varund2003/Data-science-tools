{
 "cells": [
  {
   "cell_type": "markdown",
   "id": "976c5e99-1be3-4e08-a081-5b53c1b8f144",
   "metadata": {},
   "source": [
    "# Data Science Tools and Ecosystem\n"
   ]
  },
  {
   "cell_type": "markdown",
   "id": "1934ee17-799b-4666-83f0-0c833b18d292",
   "metadata": {},
   "source": [
    "## Introduction\n",
    "\n",
    "Welcome to this Data Science Exploration Notebook! In this notebook, we'll delve into various aspects of data science, including programming languages, libraries, and tools.\n"
   ]
  },
  {
   "cell_type": "markdown",
   "id": "6388114d-5acc-48e0-9997-162c14589dd7",
   "metadata": {},
   "source": [
    "## Data Science Languages\n",
    "\n",
    "Some of the popular languages that Data Scientists use are:\n",
    "\n",
    "1. Python\n",
    "2. R\n",
    "3. SQL\n",
    "4. Scala\n",
    "5. Java\n",
    "6. C++\n",
    "7. Julia\n",
    "8. JavaScript\n",
    "9. PHP\n",
    "10. Go\n",
    "11. Ruby\n"
   ]
  },
  {
   "cell_type": "markdown",
   "id": "d2654d89-1391-4190-b2da-7baac89ce5c4",
   "metadata": {
    "tags": []
   },
   "source": [
    "## Data Science Libraries\n",
    "\n",
    "Some of the commonly used libraries used by Data Scientists include:\n",
    "\n",
    "1. Pandas\n",
    "2. Numpy\n",
    "3. Matplotlib\n",
    "4. Seaborn\n",
    "5. Scikit-learn\n",
    "6. Keras\n",
    "7. TensorFlow\n",
    "8. PyTorch\n",
    "9. Apache Spark\n",
    "10. Vegas\n",
    "11. Big DL\n",
    "12. Ggplot2"
   ]
  },
  {
   "cell_type": "markdown",
   "id": "8f0f0f3c-8fa9-430e-828e-ca81b601e812",
   "metadata": {},
   "source": [
    "## Data Science Tools\n",
    "\n",
    "| Tool          | Description                           |\n",
    "| ------------- | ------------------------------------- |\n",
    "| Jupyter       | Interactive computing                |\n",
    "| VS Code       | Integrated development environment   |\n",
    "| Tableau       | Data visualization                    |\n"
   ]
  },
  {
   "cell_type": "markdown",
   "id": "8b845fc4-4e8b-449a-8291-3b087ebc3b13",
   "metadata": {},
   "source": [
    "### Arithmetic Expression Examples\n",
    "\n",
    "In this section, we'll explore some examples of arithmetic expressions and their evaluation.\n"
   ]
  },
  {
   "cell_type": "code",
   "execution_count": 2,
   "id": "db698692-0f01-4fb1-aa00-5972f3ec5360",
   "metadata": {
    "tags": []
   },
   "outputs": [
    {
     "name": "stdin",
     "output_type": "stream",
     "text": [
      "Enter the first number:  12\n",
      "Enter the second number:  13\n"
     ]
    },
    {
     "name": "stdout",
     "output_type": "stream",
     "text": [
      "The result of 12.0 multiplied by 13.0 and added by 2 is: 158.0\n"
     ]
    }
   ],
   "source": [
    "# Multiplication and Addition Example with User Input\n",
    "num1 = float(input(\"Enter the first number: \"))\n",
    "num2 = float(input(\"Enter the second number: \"))\n",
    "\n",
    "result = num1 * num2 + 2\n",
    "print(f\"The result of {num1} multiplied by {num2} and added by 2 is: {result}\")\n"
   ]
  },
  {
   "cell_type": "code",
   "execution_count": 3,
   "id": "fae182b2-e51a-409f-8f0a-97b78bf1b6fe",
   "metadata": {
    "tags": []
   },
   "outputs": [
    {
     "name": "stdin",
     "output_type": "stream",
     "text": [
      "Enter the number of minutes:  120\n"
     ]
    },
    {
     "name": "stdout",
     "output_type": "stream",
     "text": [
      "120.0 minutes is equal to 2.0 hours.\n"
     ]
    }
   ],
   "source": [
    "# Convert User Input Minutes to Hours\n",
    "minutes = float(input(\"Enter the number of minutes: \"))\n",
    "\n",
    "hours = minutes / 60\n",
    "print(f\"{minutes} minutes is equal to {hours} hours.\")\n"
   ]
  },
  {
   "cell_type": "markdown",
   "id": "f3344ab5-954a-44fc-bf0e-3699fe7e60d0",
   "metadata": {},
   "source": [
    "## Objectives\n",
    "\n",
    "- Understand data science languages and their applications.\n",
    "- Explore essential data science libraries.\n",
    "- Familiarize yourself with common data science tools.\n",
    "- Familiarize yourself with big data technologies and their relevance in handling large datasets.\n",
    "- Learn about natural language processing (NLP) for analyzing and extracting information from text data.\n",
    "- Understand the principles of deep learning and its applications in solving complex problems.\n",
    "- Explore techniques for data storytelling to effectively communicate findings to non-technical stakeholders.\n",
    "- Gain experience in working with real-world datasets and solving practical data science challenges."
   ]
  },
  {
   "cell_type": "markdown",
   "id": "1c5b438f-a559-471b-be10-087e4cd0e773",
   "metadata": {},
   "source": [
    "## Author\n",
    "\n",
    "**Author:** Varun D\n"
   ]
  },
  {
   "cell_type": "code",
   "execution_count": null,
   "id": "9a4ced53-4f14-4866-b32d-0336973b60b8",
   "metadata": {},
   "outputs": [],
   "source": []
  }
 ],
 "metadata": {
  "kernelspec": {
   "display_name": "Python",
   "language": "python",
   "name": "conda-env-python-py"
  },
  "language_info": {
   "codemirror_mode": {
    "name": "ipython",
    "version": 3
   },
   "file_extension": ".py",
   "mimetype": "text/x-python",
   "name": "python",
   "nbconvert_exporter": "python",
   "pygments_lexer": "ipython3",
   "version": "3.7.12"
  }
 },
 "nbformat": 4,
 "nbformat_minor": 5
}
